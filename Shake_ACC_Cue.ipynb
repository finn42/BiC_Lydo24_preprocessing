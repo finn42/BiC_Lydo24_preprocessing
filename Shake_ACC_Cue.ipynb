{
 "cells": [
  {
   "cell_type": "markdown",
   "metadata": {},
   "source": [
    "# Find shake cues in ACC measurements, without audio\n",
    "\n",
    "Notebook to extract shaker table hits from audio recordings to correct for sensor clock offsets and drift. "
   ]
  },
  {
   "cell_type": "code",
   "execution_count": 1,
   "metadata": {},
   "outputs": [],
   "source": [
    "import sys\n",
    "import os\n",
    "import time\n",
    "import datetime as dt\n",
    "import math\n",
    "import numpy as np \n",
    "import scipy as sp\n",
    "import pandas as pd\n",
    "import matplotlib.pyplot as plt\n",
    "import seaborn as sns\n",
    "import librosa\n",
    "from IPython.display import Audio\n",
    "import mir_eval.sonify\n",
    "\n",
    "\n",
    "from scipy.signal import butter, filtfilt, argrelextrema\n",
    "from scipy import interpolate\n",
    "from scipy.interpolate import interp1d"
   ]
  },
  {
   "cell_type": "code",
   "execution_count": 2,
   "metadata": {},
   "outputs": [
    {
     "name": "stdout",
     "output_type": "stream",
     "text": [
      "Version: 0.10.1\n",
      "Note: you may need to restart the kernel to use updated packages.\n"
     ]
    }
   ],
   "source": [
    "pip show librosa | grep Version"
   ]
  },
  {
   "cell_type": "code",
   "execution_count": 3,
   "metadata": {},
   "outputs": [
    {
     "name": "stdout",
     "output_type": "stream",
     "text": [
      "Version: 1.25.2\n",
      "Note: you may need to restart the kernel to use updated packages.\n"
     ]
    }
   ],
   "source": [
    "pip show numpy | grep Version"
   ]
  },
  {
   "cell_type": "code",
   "execution_count": 45,
   "metadata": {},
   "outputs": [],
   "source": [
    "%load_ext autoreload\n",
    "%autoreload 1\n",
    "%aimport qex\n",
    "%aimport al"
   ]
  },
  {
   "cell_type": "code",
   "execution_count": 190,
   "metadata": {},
   "outputs": [],
   "source": [
    "def local_max_ax(cue,cue_delay,thresh = 0.99):\n",
    "    rms_sf = 256\n",
    "    times = cue.index/rms_sf #(cue['dev_dTime']-cue.loc[0,'dev_dTime']).dt.total_seconds()\n",
    "    cue_df = pd.DataFrame(index = times) # +cue_delay\n",
    "    cue_df['rms'] = cue.values\n",
    "    cue_df['peaks'] = 0\n",
    "    a = cue_df['rms'].copy()\n",
    "    a[a< a.quantile(thresh)] = 0\n",
    "    peaks =pd.Series(sp.signal.find_peaks(a)[0])#, height = 300, threshold = None, distance=10\n",
    "\n",
    "    j = 0\n",
    "    while j <len(peaks):\n",
    "        seg = peaks.loc[(peaks-peaks[j]).abs()<(rms_sf/2)].copy()\n",
    "        if len(seg)>1:\n",
    "            j = seg.index[-1]\n",
    "            peak_j = a.iloc[seg.values].idxmax()\n",
    "        else:\n",
    "            peak_j = a.index[peaks[j]]\n",
    "        cue_df.loc[peak_j,'peaks'] = 1\n",
    "        j+=1\n",
    "\n",
    "    return cue_df\n",
    "\n",
    "def local_max_max(cue,cue_delay,thresh = 0.99):\n",
    "    rms =librosa.feature.rms(y=cue, frame_length=256, hop_length=64, center=True, pad_mode='constant')\n",
    "    times = librosa.times_like(rms,sr = sr, hop_length=64)\n",
    "    rms_sf = int(sr/64)\n",
    "    cue_df = pd.DataFrame(index = times+cue_delay)\n",
    "    cue_df['rms'] = rms[0]\n",
    "    cue_df['peaks'] = 0\n",
    "    a = cue_df['rms'].copy()\n",
    "    a[a< a.quantile(thresh)] = 0\n",
    "    peaks =pd.Series(sp.signal.find_peaks(a)[0])#, height = 300, threshold = None, distance=10\n",
    "\n",
    "    j = 0\n",
    "    while j <len(peaks):\n",
    "        seg = peaks.loc[(peaks-peaks[j]).abs()<(rms_sf/2)].copy()\n",
    "        if len(seg)>1:\n",
    "            j = seg.index[-1]\n",
    "            peak_j = a.iloc[seg.values].idxmax()\n",
    "        else:\n",
    "            peak_j = a.index[peaks[j]]\n",
    "        cue_df.loc[peak_j,'peaks'] = 1\n",
    "        j+=1\n",
    "\n",
    "    return cue_df"
   ]
  },
  {
   "cell_type": "code",
   "execution_count": 35,
   "metadata": {},
   "outputs": [],
   "source": [
    "def remove_tz_from_dataframe(df_in):\n",
    "    df = df_in.copy()\n",
    "    col_times = [ col for col in df.columns if any([isinstance(x, pd.Timestamp) for x in df[col]])]\n",
    "    for col in col_times:\n",
    "        df[col] = pd.to_datetime(df[col],format='ISO8601') \n",
    "        df[col] = df[col].dt.tz_localize(None) \n",
    "    return df"
   ]
  },
  {
   "cell_type": "markdown",
   "metadata": {},
   "source": [
    "# monday March 4th, 2023, need both from signal (alos synch 1 audio)"
   ]
  },
  {
   "cell_type": "code",
   "execution_count": 37,
   "metadata": {},
   "outputs": [],
   "source": [
    "data_dir='/Volumes/SeagateHub/BiC2024/20240304/Equivital/Extracted/' \n",
    "acc_file =data_dir+'BR602/FASTACC-BR602-5022184-24030400_0.CSV'#FASTACC-LS406-5023926-24030400_0\n",
    "# y, sr = librosa.load(audio_file)\n",
    "# file1_len = len(y)\n",
    "V = pd.read_csv(acc_file,skipinitialspace=True)\n",
    "sr = 256\n",
    "# V = pd.read_csv('./testing/FASTACC-BR604-5022198-24030700.CSV',skipinitialspace=True)\n"
   ]
  },
  {
   "cell_type": "code",
   "execution_count": 182,
   "metadata": {},
   "outputs": [
    {
     "data": {
      "text/html": [
       "<div>\n",
       "<style scoped>\n",
       "    .dataframe tbody tr th:only-of-type {\n",
       "        vertical-align: middle;\n",
       "    }\n",
       "\n",
       "    .dataframe tbody tr th {\n",
       "        vertical-align: top;\n",
       "    }\n",
       "\n",
       "    .dataframe thead th {\n",
       "        text-align: right;\n",
       "    }\n",
       "</style>\n",
       "<table border=\"1\" class=\"dataframe\">\n",
       "  <thead>\n",
       "    <tr style=\"text-align: right;\">\n",
       "      <th></th>\n",
       "      <th>dev_dTime</th>\n",
       "      <th>signal</th>\n",
       "    </tr>\n",
       "  </thead>\n",
       "  <tbody>\n",
       "    <tr>\n",
       "      <th>0</th>\n",
       "      <td>2024-03-04 07:49:39.007</td>\n",
       "      <td>0.0</td>\n",
       "    </tr>\n",
       "    <tr>\n",
       "      <th>1</th>\n",
       "      <td>2024-03-04 07:49:39.011</td>\n",
       "      <td>0.0</td>\n",
       "    </tr>\n",
       "    <tr>\n",
       "      <th>2</th>\n",
       "      <td>2024-03-04 07:49:39.015</td>\n",
       "      <td>0.0</td>\n",
       "    </tr>\n",
       "    <tr>\n",
       "      <th>3</th>\n",
       "      <td>2024-03-04 07:49:39.019</td>\n",
       "      <td>0.0</td>\n",
       "    </tr>\n",
       "    <tr>\n",
       "      <th>4</th>\n",
       "      <td>2024-03-04 07:49:39.023</td>\n",
       "      <td>0.0</td>\n",
       "    </tr>\n",
       "    <tr>\n",
       "      <th>5</th>\n",
       "      <td>2024-03-04 07:49:39.027</td>\n",
       "      <td>0.0</td>\n",
       "    </tr>\n",
       "  </tbody>\n",
       "</table>\n",
       "</div>"
      ],
      "text/plain": [
       "                dev_dTime  signal\n",
       "0 2024-03-04 07:49:39.007     0.0\n",
       "1 2024-03-04 07:49:39.011     0.0\n",
       "2 2024-03-04 07:49:39.015     0.0\n",
       "3 2024-03-04 07:49:39.019     0.0\n",
       "4 2024-03-04 07:49:39.023     0.0\n",
       "5 2024-03-04 07:49:39.027     0.0"
      ]
     },
     "execution_count": 182,
     "metadata": {},
     "output_type": "execute_result"
    }
   ],
   "source": [
    "ACC = pd.DataFrame()\n",
    "ACC['dev_dTime'] = pd.to_datetime(V['DateTime'])\n",
    "df = V.loc[:,[ 'Vert Accelerometer','Lat Accelerometer','Long Accelerometer']]\n",
    "ACC['signal'] = np.sqrt(np.square(df.diff()).sum(axis=1))\n",
    "ACC = remove_tz_from_dataframe(ACC)\n",
    "ACC.loc[:5,:]"
   ]
  },
  {
   "cell_type": "code",
   "execution_count": 184,
   "metadata": {},
   "outputs": [],
   "source": [
    "synch_times = {}\n",
    "# 285\n",
    "synch_start= sync_start = pd.to_datetime('2024-03-04 07:51:38.000+0000').tz_localize(None) \n",
    "#pd.to_datetime('2024-03-04 07:52:08.000+0000')\n",
    "synch_times['cue1_20240304'] = synch_start +pd.to_timedelta(285.7628,unit='s')"
   ]
  },
  {
   "cell_type": "code",
   "execution_count": 193,
   "metadata": {},
   "outputs": [
    {
     "data": {
      "text/plain": [
       "Timestamp('2024-03-04 07:56:23.762800')"
      ]
     },
     "execution_count": 193,
     "metadata": {},
     "output_type": "execute_result"
    }
   ],
   "source": [
    "synch_times['cue1_20240304']"
   ]
  },
  {
   "cell_type": "code",
   "execution_count": 186,
   "metadata": {},
   "outputs": [
    {
     "name": "stdout",
     "output_type": "stream",
     "text": [
      "2560\n"
     ]
    },
    {
     "data": {
      "text/plain": [
       "[<matplotlib.lines.Line2D at 0x12ba095e0>]"
      ]
     },
     "execution_count": 186,
     "metadata": {},
     "output_type": "execute_result"
    },
    {
     "data": {
      "image/png": "[encoded data removed]",
      "text/plain": [
       "<Figure size 432x288 with 1 Axes>"
      ]
     },
     "metadata": {
      "needs_background": "light"
     },
     "output_type": "display_data"
    }
   ],
   "source": [
    "c = 'cue1_20240304'\n",
    "shift = 285.76281179138317 # 255 # \n",
    "dt_0 = synch_start+pd.to_timedelta(shift,unit='s')-pd.to_timedelta(0,unit='s')\n",
    "dt_1 = synch_start+pd.to_timedelta(shift,unit='s')+pd.to_timedelta(10,unit='s')\n",
    "ACC_ex = al.dt_cut(ACC,'dev_dTime',dt_0,dt_1)\n",
    "print(len(ACC_ex))\n",
    "plt.plot(ACC_ex['dev_dTime'],ACC_ex['signal'])"
   ]
  },
  {
   "cell_type": "code",
   "execution_count": 187,
   "metadata": {},
   "outputs": [
    {
     "data": {
      "text/html": [
       "<div>\n",
       "<style scoped>\n",
       "    .dataframe tbody tr th:only-of-type {\n",
       "        vertical-align: middle;\n",
       "    }\n",
       "\n",
       "    .dataframe tbody tr th {\n",
       "        vertical-align: top;\n",
       "    }\n",
       "\n",
       "    .dataframe thead th {\n",
       "        text-align: right;\n",
       "    }\n",
       "</style>\n",
       "<table border=\"1\" class=\"dataframe\">\n",
       "  <thead>\n",
       "    <tr style=\"text-align: right;\">\n",
       "      <th></th>\n",
       "      <th>dev_dTime</th>\n",
       "      <th>signal</th>\n",
       "    </tr>\n",
       "  </thead>\n",
       "  <tbody>\n",
       "    <tr>\n",
       "      <th>103625</th>\n",
       "      <td>2024-03-04 07:56:23.765</td>\n",
       "      <td>13.638182</td>\n",
       "    </tr>\n",
       "    <tr>\n",
       "      <th>103626</th>\n",
       "      <td>2024-03-04 07:56:23.769</td>\n",
       "      <td>12.369317</td>\n",
       "    </tr>\n",
       "    <tr>\n",
       "      <th>103627</th>\n",
       "      <td>2024-03-04 07:56:23.773</td>\n",
       "      <td>7.000000</td>\n",
       "    </tr>\n",
       "    <tr>\n",
       "      <th>103628</th>\n",
       "      <td>2024-03-04 07:56:23.777</td>\n",
       "      <td>7.615773</td>\n",
       "    </tr>\n",
       "    <tr>\n",
       "      <th>103629</th>\n",
       "      <td>2024-03-04 07:56:23.781</td>\n",
       "      <td>21.540659</td>\n",
       "    </tr>\n",
       "    <tr>\n",
       "      <th>...</th>\n",
       "      <td>...</td>\n",
       "      <td>...</td>\n",
       "    </tr>\n",
       "    <tr>\n",
       "      <th>106180</th>\n",
       "      <td>2024-03-04 07:56:33.746</td>\n",
       "      <td>4.000000</td>\n",
       "    </tr>\n",
       "    <tr>\n",
       "      <th>106181</th>\n",
       "      <td>2024-03-04 07:56:33.749</td>\n",
       "      <td>5.656854</td>\n",
       "    </tr>\n",
       "    <tr>\n",
       "      <th>106182</th>\n",
       "      <td>2024-03-04 07:56:33.753</td>\n",
       "      <td>8.944272</td>\n",
       "    </tr>\n",
       "    <tr>\n",
       "      <th>106183</th>\n",
       "      <td>2024-03-04 07:56:33.757</td>\n",
       "      <td>9.000000</td>\n",
       "    </tr>\n",
       "    <tr>\n",
       "      <th>106184</th>\n",
       "      <td>2024-03-04 07:56:33.761</td>\n",
       "      <td>13.601471</td>\n",
       "    </tr>\n",
       "  </tbody>\n",
       "</table>\n",
       "<p>2560 rows × 2 columns</p>\n",
       "</div>"
      ],
      "text/plain": [
       "                     dev_dTime     signal\n",
       "103625 2024-03-04 07:56:23.765  13.638182\n",
       "103626 2024-03-04 07:56:23.769  12.369317\n",
       "103627 2024-03-04 07:56:23.773   7.000000\n",
       "103628 2024-03-04 07:56:23.777   7.615773\n",
       "103629 2024-03-04 07:56:23.781  21.540659\n",
       "...                        ...        ...\n",
       "106180 2024-03-04 07:56:33.746   4.000000\n",
       "106181 2024-03-04 07:56:33.749   5.656854\n",
       "106182 2024-03-04 07:56:33.753   8.944272\n",
       "106183 2024-03-04 07:56:33.757   9.000000\n",
       "106184 2024-03-04 07:56:33.761  13.601471\n",
       "\n",
       "[2560 rows x 2 columns]"
      ]
     },
     "execution_count": 187,
     "metadata": {},
     "output_type": "execute_result"
    }
   ],
   "source": [
    "ACC_ex"
   ]
  },
  {
   "cell_type": "code",
   "execution_count": 194,
   "metadata": {},
   "outputs": [
    {
     "data": {
      "image/png": "[encoded data removed]",
      "text/plain": [
       "<Figure size 432x288 with 1 Axes>"
      ]
     },
     "metadata": {
      "needs_background": "light"
     },
     "output_type": "display_data"
    },
    {
     "data": {
      "text/plain": [
       "Index([nan, 1.46875, 1.4375], dtype='float64')"
      ]
     },
     "execution_count": 194,
     "metadata": {},
     "output_type": "execute_result"
    }
   ],
   "source": [
    "cue_df = local_max_ax(ACC_ex['signal'],np.round(0,3))\n",
    "cue_df#.sum()\n",
    "cue_df['rms'].plot()\n",
    "cue_df.loc[cue_df['peaks']==1,'rms'].plot()\n",
    "plt.show()\n",
    "cue_df.index[cue_df['peaks']==1].diff() # [nan, 1.4686621315192951, 1.4396371882086214]"
   ]
  },
  {
   "cell_type": "code",
   "execution_count": 197,
   "metadata": {},
   "outputs": [
    {
     "data": {
      "text/plain": [
       "407.4921875"
      ]
     },
     "execution_count": 197,
     "metadata": {},
     "output_type": "execute_result"
    }
   ],
   "source": [
    "cue_df.index[cue_df['peaks']==1][0]"
   ]
  },
  {
   "cell_type": "code",
   "execution_count": 195,
   "metadata": {},
   "outputs": [
    {
     "data": {
      "text/html": [
       "<div>\n",
       "<style scoped>\n",
       "    .dataframe tbody tr th:only-of-type {\n",
       "        vertical-align: middle;\n",
       "    }\n",
       "\n",
       "    .dataframe tbody tr th {\n",
       "        vertical-align: top;\n",
       "    }\n",
       "\n",
       "    .dataframe thead th {\n",
       "        text-align: right;\n",
       "    }\n",
       "</style>\n",
       "<table border=\"1\" class=\"dataframe\">\n",
       "  <thead>\n",
       "    <tr style=\"text-align: right;\">\n",
       "      <th></th>\n",
       "      <th>rms</th>\n",
       "      <th>peaks</th>\n",
       "    </tr>\n",
       "  </thead>\n",
       "  <tbody>\n",
       "    <tr>\n",
       "      <th>404.785156</th>\n",
       "      <td>13.638182</td>\n",
       "      <td>0</td>\n",
       "    </tr>\n",
       "    <tr>\n",
       "      <th>404.789062</th>\n",
       "      <td>12.369317</td>\n",
       "      <td>0</td>\n",
       "    </tr>\n",
       "    <tr>\n",
       "      <th>404.792969</th>\n",
       "      <td>7.000000</td>\n",
       "      <td>0</td>\n",
       "    </tr>\n",
       "    <tr>\n",
       "      <th>404.796875</th>\n",
       "      <td>7.615773</td>\n",
       "      <td>0</td>\n",
       "    </tr>\n",
       "    <tr>\n",
       "      <th>404.800781</th>\n",
       "      <td>21.540659</td>\n",
       "      <td>0</td>\n",
       "    </tr>\n",
       "    <tr>\n",
       "      <th>...</th>\n",
       "      <td>...</td>\n",
       "      <td>...</td>\n",
       "    </tr>\n",
       "    <tr>\n",
       "      <th>414.765625</th>\n",
       "      <td>4.000000</td>\n",
       "      <td>0</td>\n",
       "    </tr>\n",
       "    <tr>\n",
       "      <th>414.769531</th>\n",
       "      <td>5.656854</td>\n",
       "      <td>0</td>\n",
       "    </tr>\n",
       "    <tr>\n",
       "      <th>414.773438</th>\n",
       "      <td>8.944272</td>\n",
       "      <td>0</td>\n",
       "    </tr>\n",
       "    <tr>\n",
       "      <th>414.777344</th>\n",
       "      <td>9.000000</td>\n",
       "      <td>0</td>\n",
       "    </tr>\n",
       "    <tr>\n",
       "      <th>414.781250</th>\n",
       "      <td>13.601471</td>\n",
       "      <td>0</td>\n",
       "    </tr>\n",
       "  </tbody>\n",
       "</table>\n",
       "<p>2560 rows × 2 columns</p>\n",
       "</div>"
      ],
      "text/plain": [
       "                  rms  peaks\n",
       "404.785156  13.638182      0\n",
       "404.789062  12.369317      0\n",
       "404.792969   7.000000      0\n",
       "404.796875   7.615773      0\n",
       "404.800781  21.540659      0\n",
       "...               ...    ...\n",
       "414.765625   4.000000      0\n",
       "414.769531   5.656854      0\n",
       "414.773438   8.944272      0\n",
       "414.777344   9.000000      0\n",
       "414.781250  13.601471      0\n",
       "\n",
       "[2560 rows x 2 columns]"
      ]
     },
     "execution_count": 195,
     "metadata": {},
     "output_type": "execute_result"
    }
   ],
   "source": [
    "cue_df"
   ]
  },
  {
   "cell_type": "code",
   "execution_count": 198,
   "metadata": {},
   "outputs": [
    {
     "data": {
      "text/html": [
       "<div>\n",
       "<style scoped>\n",
       "    .dataframe tbody tr th:only-of-type {\n",
       "        vertical-align: middle;\n",
       "    }\n",
       "\n",
       "    .dataframe tbody tr th {\n",
       "        vertical-align: top;\n",
       "    }\n",
       "\n",
       "    .dataframe thead th {\n",
       "        text-align: right;\n",
       "    }\n",
       "</style>\n",
       "<table border=\"1\" class=\"dataframe\">\n",
       "  <thead>\n",
       "    <tr style=\"text-align: right;\">\n",
       "      <th></th>\n",
       "      <th>rms</th>\n",
       "      <th>peaks</th>\n",
       "      <th>DateTime</th>\n",
       "    </tr>\n",
       "  </thead>\n",
       "  <tbody>\n",
       "    <tr>\n",
       "      <th>404.785156</th>\n",
       "      <td>13.638182</td>\n",
       "      <td>0</td>\n",
       "      <td>2024-03-04 07:56:21.055768750</td>\n",
       "    </tr>\n",
       "    <tr>\n",
       "      <th>404.789062</th>\n",
       "      <td>12.369317</td>\n",
       "      <td>0</td>\n",
       "      <td>2024-03-04 07:56:21.059675000</td>\n",
       "    </tr>\n",
       "    <tr>\n",
       "      <th>404.792969</th>\n",
       "      <td>7.000000</td>\n",
       "      <td>0</td>\n",
       "      <td>2024-03-04 07:56:21.063581250</td>\n",
       "    </tr>\n",
       "    <tr>\n",
       "      <th>404.796875</th>\n",
       "      <td>7.615773</td>\n",
       "      <td>0</td>\n",
       "      <td>2024-03-04 07:56:21.067487500</td>\n",
       "    </tr>\n",
       "    <tr>\n",
       "      <th>404.800781</th>\n",
       "      <td>21.540659</td>\n",
       "      <td>0</td>\n",
       "      <td>2024-03-04 07:56:21.071393750</td>\n",
       "    </tr>\n",
       "    <tr>\n",
       "      <th>...</th>\n",
       "      <td>...</td>\n",
       "      <td>...</td>\n",
       "      <td>...</td>\n",
       "    </tr>\n",
       "    <tr>\n",
       "      <th>414.765625</th>\n",
       "      <td>4.000000</td>\n",
       "      <td>0</td>\n",
       "      <td>2024-03-04 07:56:31.036237500</td>\n",
       "    </tr>\n",
       "    <tr>\n",
       "      <th>414.769531</th>\n",
       "      <td>5.656854</td>\n",
       "      <td>0</td>\n",
       "      <td>2024-03-04 07:56:31.040143750</td>\n",
       "    </tr>\n",
       "    <tr>\n",
       "      <th>414.773438</th>\n",
       "      <td>8.944272</td>\n",
       "      <td>0</td>\n",
       "      <td>2024-03-04 07:56:31.044050000</td>\n",
       "    </tr>\n",
       "    <tr>\n",
       "      <th>414.777344</th>\n",
       "      <td>9.000000</td>\n",
       "      <td>0</td>\n",
       "      <td>2024-03-04 07:56:31.047956250</td>\n",
       "    </tr>\n",
       "    <tr>\n",
       "      <th>414.781250</th>\n",
       "      <td>13.601471</td>\n",
       "      <td>0</td>\n",
       "      <td>2024-03-04 07:56:31.051862500</td>\n",
       "    </tr>\n",
       "  </tbody>\n",
       "</table>\n",
       "<p>2560 rows × 3 columns</p>\n",
       "</div>"
      ],
      "text/plain": [
       "                  rms  peaks                      DateTime\n",
       "404.785156  13.638182      0 2024-03-04 07:56:21.055768750\n",
       "404.789062  12.369317      0 2024-03-04 07:56:21.059675000\n",
       "404.792969   7.000000      0 2024-03-04 07:56:21.063581250\n",
       "404.796875   7.615773      0 2024-03-04 07:56:21.067487500\n",
       "404.800781  21.540659      0 2024-03-04 07:56:21.071393750\n",
       "...               ...    ...                           ...\n",
       "414.765625   4.000000      0 2024-03-04 07:56:31.036237500\n",
       "414.769531   5.656854      0 2024-03-04 07:56:31.040143750\n",
       "414.773438   8.944272      0 2024-03-04 07:56:31.044050000\n",
       "414.777344   9.000000      0 2024-03-04 07:56:31.047956250\n",
       "414.781250  13.601471      0 2024-03-04 07:56:31.051862500\n",
       "\n",
       "[2560 rows x 3 columns]"
      ]
     },
     "execution_count": 198,
     "metadata": {},
     "output_type": "execute_result"
    }
   ],
   "source": [
    "cue_df['DateTime'] = synch_times['cue1_20240304'] + pd.to_timedelta(cue_df.index-cue_df.index[cue_df['peaks']==1][0],unit='s')\n",
    "cue_df"
   ]
  },
  {
   "cell_type": "code",
   "execution_count": 199,
   "metadata": {},
   "outputs": [],
   "source": [
    "\n",
    "cue_df.to_csv('./outfiles/cue1_acc_20240304.csv')"
   ]
  },
  {
   "cell_type": "code",
   "execution_count": 95,
   "metadata": {},
   "outputs": [
    {
     "data": {
      "text/html": [
       "<div>\n",
       "<style scoped>\n",
       "    .dataframe tbody tr th:only-of-type {\n",
       "        vertical-align: middle;\n",
       "    }\n",
       "\n",
       "    .dataframe tbody tr th {\n",
       "        vertical-align: top;\n",
       "    }\n",
       "\n",
       "    .dataframe thead th {\n",
       "        text-align: right;\n",
       "    }\n",
       "</style>\n",
       "<table border=\"1\" class=\"dataframe\">\n",
       "  <thead>\n",
       "    <tr style=\"text-align: right;\">\n",
       "      <th></th>\n",
       "      <th>dev_dTime</th>\n",
       "      <th>signal</th>\n",
       "    </tr>\n",
       "  </thead>\n",
       "  <tbody>\n",
       "    <tr>\n",
       "      <th>16380</th>\n",
       "      <td>2024-03-04 07:52:03.003</td>\n",
       "      <td>15.524175</td>\n",
       "    </tr>\n",
       "    <tr>\n",
       "      <th>16381</th>\n",
       "      <td>2024-03-04 07:52:03.007</td>\n",
       "      <td>15.779734</td>\n",
       "    </tr>\n",
       "    <tr>\n",
       "      <th>16382</th>\n",
       "      <td>2024-03-04 07:52:03.011</td>\n",
       "      <td>9.797959</td>\n",
       "    </tr>\n",
       "    <tr>\n",
       "      <th>16383</th>\n",
       "      <td>2024-03-04 07:52:03.015</td>\n",
       "      <td>8.062258</td>\n",
       "    </tr>\n",
       "    <tr>\n",
       "      <th>16384</th>\n",
       "      <td>2024-03-04 07:52:03.019</td>\n",
       "      <td>21.563859</td>\n",
       "    </tr>\n",
       "    <tr>\n",
       "      <th>...</th>\n",
       "      <td>...</td>\n",
       "      <td>...</td>\n",
       "    </tr>\n",
       "    <tr>\n",
       "      <th>20215</th>\n",
       "      <td>2024-03-04 07:52:17.984</td>\n",
       "      <td>5.656854</td>\n",
       "    </tr>\n",
       "    <tr>\n",
       "      <th>20216</th>\n",
       "      <td>2024-03-04 07:52:17.988</td>\n",
       "      <td>8.944272</td>\n",
       "    </tr>\n",
       "    <tr>\n",
       "      <th>20217</th>\n",
       "      <td>2024-03-04 07:52:17.992</td>\n",
       "      <td>12.000000</td>\n",
       "    </tr>\n",
       "    <tr>\n",
       "      <th>20218</th>\n",
       "      <td>2024-03-04 07:52:17.995</td>\n",
       "      <td>17.435596</td>\n",
       "    </tr>\n",
       "    <tr>\n",
       "      <th>20219</th>\n",
       "      <td>2024-03-04 07:52:17.999</td>\n",
       "      <td>5.656854</td>\n",
       "    </tr>\n",
       "  </tbody>\n",
       "</table>\n",
       "<p>3840 rows × 2 columns</p>\n",
       "</div>"
      ],
      "text/plain": [
       "                    dev_dTime     signal\n",
       "16380 2024-03-04 07:52:03.003  15.524175\n",
       "16381 2024-03-04 07:52:03.007  15.779734\n",
       "16382 2024-03-04 07:52:03.011   9.797959\n",
       "16383 2024-03-04 07:52:03.015   8.062258\n",
       "16384 2024-03-04 07:52:03.019  21.563859\n",
       "...                       ...        ...\n",
       "20215 2024-03-04 07:52:17.984   5.656854\n",
       "20216 2024-03-04 07:52:17.988   8.944272\n",
       "20217 2024-03-04 07:52:17.992  12.000000\n",
       "20218 2024-03-04 07:52:17.995  17.435596\n",
       "20219 2024-03-04 07:52:17.999   5.656854\n",
       "\n",
       "[3840 rows x 2 columns]"
      ]
     },
     "execution_count": 95,
     "metadata": {},
     "output_type": "execute_result"
    }
   ],
   "source": [
    "ACC_ex['signal']"
   ]
  },
  {
   "cell_type": "code",
   "execution_count": 200,
   "metadata": {},
   "outputs": [],
   "source": [
    "synch_times['cue2_20240304'] = pd.to_datetime('2024-03-04 14:25:45.200+0000').tz_localize(None) \n",
    "# sync_end = pd.to_datetime('2024-03-04 14:25:45.000+0000') # 06:33:45 13:00\n"
   ]
  },
  {
   "cell_type": "code",
   "execution_count": 201,
   "metadata": {},
   "outputs": [
    {
     "name": "stdout",
     "output_type": "stream",
     "text": [
      "4096\n"
     ]
    },
    {
     "data": {
      "text/plain": [
       "[<matplotlib.lines.Line2D at 0x12ba02f10>]"
      ]
     },
     "execution_count": 201,
     "metadata": {},
     "output_type": "execute_result"
    },
    {
     "data": {
      "image/png": "[encoded data removed]",
      "text/plain": [
       "<Figure size 432x288 with 1 Axes>"
      ]
     },
     "metadata": {
      "needs_background": "light"
     },
     "output_type": "display_data"
    }
   ],
   "source": [
    "c = 'cue2_20240304'\n",
    "dt_0 = synch_times[c]-pd.to_timedelta(3,unit='s')\n",
    "dt_1 = synch_times[c]+pd.to_timedelta(13,unit='s')\n",
    "ACC_ex = al.dt_cut(ACC,'dev_dTime',dt_0,dt_1)\n",
    "print(len(ACC_ex))\n",
    "plt.plot(ACC_ex['dev_dTime'],ACC_ex['signal'])"
   ]
  },
  {
   "cell_type": "code",
   "execution_count": 202,
   "metadata": {},
   "outputs": [
    {
     "data": {
      "image/png": "[encoded data removed]",
      "text/plain": [
       "<Figure size 432x288 with 1 Axes>"
      ]
     },
     "metadata": {
      "needs_background": "light"
     },
     "output_type": "display_data"
    },
    {
     "data": {
      "text/plain": [
       "Index([nan, 2.984375, 1.8828125, 1.94921875], dtype='float64')"
      ]
     },
     "execution_count": 202,
     "metadata": {},
     "output_type": "execute_result"
    }
   ],
   "source": [
    "cue_df = local_max_ax(ACC_ex['signal'],np.round(0,3))\n",
    "cue_df#.sum()\n",
    "cue_df['rms'].plot()\n",
    "cue_df.loc[cue_df['peaks']==1,'rms'].plot()\n",
    "plt.show()\n",
    "cue_df.index[cue_df['peaks']==1].diff() # [nan, 1.4686621315192951, 1.4396371882086214]"
   ]
  },
  {
   "cell_type": "code",
   "execution_count": 203,
   "metadata": {},
   "outputs": [
    {
     "data": {
      "text/html": [
       "<div>\n",
       "<style scoped>\n",
       "    .dataframe tbody tr th:only-of-type {\n",
       "        vertical-align: middle;\n",
       "    }\n",
       "\n",
       "    .dataframe tbody tr th {\n",
       "        vertical-align: top;\n",
       "    }\n",
       "\n",
       "    .dataframe thead th {\n",
       "        text-align: right;\n",
       "    }\n",
       "</style>\n",
       "<table border=\"1\" class=\"dataframe\">\n",
       "  <thead>\n",
       "    <tr style=\"text-align: right;\">\n",
       "      <th></th>\n",
       "      <th>rms</th>\n",
       "      <th>peaks</th>\n",
       "    </tr>\n",
       "  </thead>\n",
       "  <tbody>\n",
       "    <tr>\n",
       "      <th>23763.222656</th>\n",
       "      <td>14.966630</td>\n",
       "      <td>0</td>\n",
       "    </tr>\n",
       "    <tr>\n",
       "      <th>23763.226562</th>\n",
       "      <td>5.656854</td>\n",
       "      <td>0</td>\n",
       "    </tr>\n",
       "    <tr>\n",
       "      <th>23763.230469</th>\n",
       "      <td>8.944272</td>\n",
       "      <td>0</td>\n",
       "    </tr>\n",
       "    <tr>\n",
       "      <th>23763.234375</th>\n",
       "      <td>8.000000</td>\n",
       "      <td>0</td>\n",
       "    </tr>\n",
       "    <tr>\n",
       "      <th>23763.238281</th>\n",
       "      <td>17.464249</td>\n",
       "      <td>0</td>\n",
       "    </tr>\n",
       "    <tr>\n",
       "      <th>...</th>\n",
       "      <td>...</td>\n",
       "      <td>...</td>\n",
       "    </tr>\n",
       "    <tr>\n",
       "      <th>23779.203125</th>\n",
       "      <td>13.892444</td>\n",
       "      <td>0</td>\n",
       "    </tr>\n",
       "    <tr>\n",
       "      <th>23779.207031</th>\n",
       "      <td>16.278821</td>\n",
       "      <td>0</td>\n",
       "    </tr>\n",
       "    <tr>\n",
       "      <th>23779.210938</th>\n",
       "      <td>23.323808</td>\n",
       "      <td>0</td>\n",
       "    </tr>\n",
       "    <tr>\n",
       "      <th>23779.214844</th>\n",
       "      <td>23.664319</td>\n",
       "      <td>0</td>\n",
       "    </tr>\n",
       "    <tr>\n",
       "      <th>23779.218750</th>\n",
       "      <td>19.621417</td>\n",
       "      <td>0</td>\n",
       "    </tr>\n",
       "  </tbody>\n",
       "</table>\n",
       "<p>4096 rows × 2 columns</p>\n",
       "</div>"
      ],
      "text/plain": [
       "                    rms  peaks\n",
       "23763.222656  14.966630      0\n",
       "23763.226562   5.656854      0\n",
       "23763.230469   8.944272      0\n",
       "23763.234375   8.000000      0\n",
       "23763.238281  17.464249      0\n",
       "...                 ...    ...\n",
       "23779.203125  13.892444      0\n",
       "23779.207031  16.278821      0\n",
       "23779.210938  23.323808      0\n",
       "23779.214844  23.664319      0\n",
       "23779.218750  19.621417      0\n",
       "\n",
       "[4096 rows x 2 columns]"
      ]
     },
     "execution_count": 203,
     "metadata": {},
     "output_type": "execute_result"
    }
   ],
   "source": [
    "cue_df"
   ]
  },
  {
   "cell_type": "code",
   "execution_count": 204,
   "metadata": {},
   "outputs": [
    {
     "data": {
      "text/html": [
       "<div>\n",
       "<style scoped>\n",
       "    .dataframe tbody tr th:only-of-type {\n",
       "        vertical-align: middle;\n",
       "    }\n",
       "\n",
       "    .dataframe tbody tr th {\n",
       "        vertical-align: top;\n",
       "    }\n",
       "\n",
       "    .dataframe thead th {\n",
       "        text-align: right;\n",
       "    }\n",
       "</style>\n",
       "<table border=\"1\" class=\"dataframe\">\n",
       "  <thead>\n",
       "    <tr style=\"text-align: right;\">\n",
       "      <th></th>\n",
       "      <th>rms</th>\n",
       "      <th>peaks</th>\n",
       "      <th>DateTime</th>\n",
       "    </tr>\n",
       "  </thead>\n",
       "  <tbody>\n",
       "    <tr>\n",
       "      <th>23763.222656</th>\n",
       "      <td>14.966630</td>\n",
       "      <td>0</td>\n",
       "      <td>2024-03-04 14:25:40.950000000</td>\n",
       "    </tr>\n",
       "    <tr>\n",
       "      <th>23763.226562</th>\n",
       "      <td>5.656854</td>\n",
       "      <td>0</td>\n",
       "      <td>2024-03-04 14:25:40.953906250</td>\n",
       "    </tr>\n",
       "    <tr>\n",
       "      <th>23763.230469</th>\n",
       "      <td>8.944272</td>\n",
       "      <td>0</td>\n",
       "      <td>2024-03-04 14:25:40.957812500</td>\n",
       "    </tr>\n",
       "    <tr>\n",
       "      <th>23763.234375</th>\n",
       "      <td>8.000000</td>\n",
       "      <td>0</td>\n",
       "      <td>2024-03-04 14:25:40.961718750</td>\n",
       "    </tr>\n",
       "    <tr>\n",
       "      <th>23763.238281</th>\n",
       "      <td>17.464249</td>\n",
       "      <td>0</td>\n",
       "      <td>2024-03-04 14:25:40.965625000</td>\n",
       "    </tr>\n",
       "    <tr>\n",
       "      <th>...</th>\n",
       "      <td>...</td>\n",
       "      <td>...</td>\n",
       "      <td>...</td>\n",
       "    </tr>\n",
       "    <tr>\n",
       "      <th>23779.203125</th>\n",
       "      <td>13.892444</td>\n",
       "      <td>0</td>\n",
       "      <td>2024-03-04 14:25:56.930468750</td>\n",
       "    </tr>\n",
       "    <tr>\n",
       "      <th>23779.207031</th>\n",
       "      <td>16.278821</td>\n",
       "      <td>0</td>\n",
       "      <td>2024-03-04 14:25:56.934375000</td>\n",
       "    </tr>\n",
       "    <tr>\n",
       "      <th>23779.210938</th>\n",
       "      <td>23.323808</td>\n",
       "      <td>0</td>\n",
       "      <td>2024-03-04 14:25:56.938281250</td>\n",
       "    </tr>\n",
       "    <tr>\n",
       "      <th>23779.214844</th>\n",
       "      <td>23.664319</td>\n",
       "      <td>0</td>\n",
       "      <td>2024-03-04 14:25:56.942187500</td>\n",
       "    </tr>\n",
       "    <tr>\n",
       "      <th>23779.218750</th>\n",
       "      <td>19.621417</td>\n",
       "      <td>0</td>\n",
       "      <td>2024-03-04 14:25:56.946093750</td>\n",
       "    </tr>\n",
       "  </tbody>\n",
       "</table>\n",
       "<p>4096 rows × 3 columns</p>\n",
       "</div>"
      ],
      "text/plain": [
       "                    rms  peaks                      DateTime\n",
       "23763.222656  14.966630      0 2024-03-04 14:25:40.950000000\n",
       "23763.226562   5.656854      0 2024-03-04 14:25:40.953906250\n",
       "23763.230469   8.944272      0 2024-03-04 14:25:40.957812500\n",
       "23763.234375   8.000000      0 2024-03-04 14:25:40.961718750\n",
       "23763.238281  17.464249      0 2024-03-04 14:25:40.965625000\n",
       "...                 ...    ...                           ...\n",
       "23779.203125  13.892444      0 2024-03-04 14:25:56.930468750\n",
       "23779.207031  16.278821      0 2024-03-04 14:25:56.934375000\n",
       "23779.210938  23.323808      0 2024-03-04 14:25:56.938281250\n",
       "23779.214844  23.664319      0 2024-03-04 14:25:56.942187500\n",
       "23779.218750  19.621417      0 2024-03-04 14:25:56.946093750\n",
       "\n",
       "[4096 rows x 3 columns]"
      ]
     },
     "execution_count": 204,
     "metadata": {},
     "output_type": "execute_result"
    }
   ],
   "source": [
    "cue_df['DateTime'] = synch_times['cue2_20240304'] + pd.to_timedelta(cue_df.index-cue_df.index[cue_df['peaks']==1][0],unit='s')\n",
    "cue_df"
   ]
  },
  {
   "cell_type": "code",
   "execution_count": 205,
   "metadata": {},
   "outputs": [],
   "source": [
    "cue_df.to_csv('./outfiles/cue2_acc_20240304.csv')"
   ]
  },
  {
   "cell_type": "markdown",
   "metadata": {},
   "source": [
    "# Not Synch cues in audio for Wednesday"
   ]
  },
  {
   "cell_type": "code",
   "execution_count": 208,
   "metadata": {},
   "outputs": [],
   "source": [
    "data_dir='/Volumes/SeagateHub/BiC2024/20240306/Equivital/Extracted SEM Data/' \n",
    "acc_file =data_dir+'BR609/FASTACC-BR609-5022222-24030600.CSV'#FASTACC-LS406-5023926-24030400_0\n",
    "# y, sr = librosa.load(audio_file)\n",
    "# file1_len = len(y)\n",
    "V = pd.read_csv(acc_file,skipinitialspace=True)\n",
    "sr = 256\n",
    "# V = pd.read_csv('./testing/FASTACC-BR604-5022198-24030700.CSV',skipinitialspace=True)\n"
   ]
  },
  {
   "cell_type": "code",
   "execution_count": 209,
   "metadata": {},
   "outputs": [
    {
     "data": {
      "text/html": [
       "<div>\n",
       "<style scoped>\n",
       "    .dataframe tbody tr th:only-of-type {\n",
       "        vertical-align: middle;\n",
       "    }\n",
       "\n",
       "    .dataframe tbody tr th {\n",
       "        vertical-align: top;\n",
       "    }\n",
       "\n",
       "    .dataframe thead th {\n",
       "        text-align: right;\n",
       "    }\n",
       "</style>\n",
       "<table border=\"1\" class=\"dataframe\">\n",
       "  <thead>\n",
       "    <tr style=\"text-align: right;\">\n",
       "      <th></th>\n",
       "      <th>dev_dTime</th>\n",
       "      <th>signal</th>\n",
       "    </tr>\n",
       "  </thead>\n",
       "  <tbody>\n",
       "    <tr>\n",
       "      <th>0</th>\n",
       "      <td>2024-03-06 07:04:59.007</td>\n",
       "      <td>0.0</td>\n",
       "    </tr>\n",
       "    <tr>\n",
       "      <th>1</th>\n",
       "      <td>2024-03-06 07:04:59.011</td>\n",
       "      <td>0.0</td>\n",
       "    </tr>\n",
       "    <tr>\n",
       "      <th>2</th>\n",
       "      <td>2024-03-06 07:04:59.015</td>\n",
       "      <td>0.0</td>\n",
       "    </tr>\n",
       "    <tr>\n",
       "      <th>3</th>\n",
       "      <td>2024-03-06 07:04:59.019</td>\n",
       "      <td>0.0</td>\n",
       "    </tr>\n",
       "    <tr>\n",
       "      <th>4</th>\n",
       "      <td>2024-03-06 07:04:59.023</td>\n",
       "      <td>0.0</td>\n",
       "    </tr>\n",
       "    <tr>\n",
       "      <th>5</th>\n",
       "      <td>2024-03-06 07:04:59.027</td>\n",
       "      <td>0.0</td>\n",
       "    </tr>\n",
       "  </tbody>\n",
       "</table>\n",
       "</div>"
      ],
      "text/plain": [
       "                dev_dTime  signal\n",
       "0 2024-03-06 07:04:59.007     0.0\n",
       "1 2024-03-06 07:04:59.011     0.0\n",
       "2 2024-03-06 07:04:59.015     0.0\n",
       "3 2024-03-06 07:04:59.019     0.0\n",
       "4 2024-03-06 07:04:59.023     0.0\n",
       "5 2024-03-06 07:04:59.027     0.0"
      ]
     },
     "execution_count": 209,
     "metadata": {},
     "output_type": "execute_result"
    }
   ],
   "source": [
    "ACC = pd.DataFrame()\n",
    "ACC['dev_dTime'] = pd.to_datetime(V['DateTime'])\n",
    "df = V.loc[:,[ 'Vert Accelerometer','Lat Accelerometer','Long Accelerometer']]\n",
    "ACC['signal'] = np.sqrt(np.square(df.diff()).sum(axis=1))\n",
    "ACC = remove_tz_from_dataframe(ACC)\n",
    "ACC.loc[:5,:]"
   ]
  },
  {
   "cell_type": "code",
   "execution_count": 234,
   "metadata": {},
   "outputs": [],
   "source": [
    "synch_times = {}\n",
    "# 285\n",
    "synch_start= sync_start = pd.to_datetime('2024-03-06 07:12:00.000+0000').tz_localize(None) \n",
    "#pd.to_datetime('2024-03-04 07:52:08.000+0000')\n",
    "synch_times['cue1_20240306'] = synch_start +pd.to_timedelta(8,unit='s')"
   ]
  },
  {
   "cell_type": "code",
   "execution_count": 237,
   "metadata": {},
   "outputs": [
    {
     "name": "stdout",
     "output_type": "stream",
     "text": [
      "2304\n"
     ]
    },
    {
     "data": {
      "text/plain": [
       "[<matplotlib.lines.Line2D at 0x12be5a280>]"
      ]
     },
     "execution_count": 237,
     "metadata": {},
     "output_type": "execute_result"
    },
    {
     "data": {
      "image/png": "[encoded data removed]",
      "text/plain": [
       "<Figure size 432x288 with 1 Axes>"
      ]
     },
     "metadata": {
      "needs_background": "light"
     },
     "output_type": "display_data"
    }
   ],
   "source": [
    "c = 'cue1_20240306'\n",
    "shift = 0 # 255 # \n",
    "dt_0 = synch_times['cue1_20240306']+pd.to_timedelta(shift,unit='s')-pd.to_timedelta(2,unit='s')\n",
    "dt_1 = synch_times['cue1_20240306']+pd.to_timedelta(shift,unit='s')+pd.to_timedelta(7,unit='s')\n",
    "ACC_ex = al.dt_cut(ACC,'dev_dTime',dt_0,dt_1)\n",
    "print(len(ACC_ex))\n",
    "plt.plot(ACC_ex['dev_dTime'],ACC_ex['signal'])"
   ]
  },
  {
   "cell_type": "code",
   "execution_count": 238,
   "metadata": {},
   "outputs": [
    {
     "data": {
      "image/png": "[encoded data removed]",
      "text/plain": [
       "<Figure size 432x288 with 1 Axes>"
      ]
     },
     "metadata": {
      "needs_background": "light"
     },
     "output_type": "display_data"
    },
    {
     "data": {
      "text/plain": [
       "Index([nan, 1.6796875, 1.79296875, 1.62109375], dtype='float64')"
      ]
     },
     "execution_count": 238,
     "metadata": {},
     "output_type": "execute_result"
    }
   ],
   "source": [
    "cue_df = local_max_ax(ACC_ex['signal'],np.round(0,3))\n",
    "cue_df#.sum()\n",
    "cue_df['rms'].plot()\n",
    "cue_df.loc[cue_df['peaks']==1,'rms'].plot()\n",
    "plt.show()\n",
    "cue_df.index[cue_df['peaks']==1].diff() # [nan, 1.4686621315192951, 1.4396371882086214]"
   ]
  },
  {
   "cell_type": "code",
   "execution_count": 242,
   "metadata": {},
   "outputs": [
    {
     "data": {
      "text/html": [
       "<div>\n",
       "<style scoped>\n",
       "    .dataframe tbody tr th:only-of-type {\n",
       "        vertical-align: middle;\n",
       "    }\n",
       "\n",
       "    .dataframe tbody tr th {\n",
       "        vertical-align: top;\n",
       "    }\n",
       "\n",
       "    .dataframe thead th {\n",
       "        text-align: right;\n",
       "    }\n",
       "</style>\n",
       "<table border=\"1\" class=\"dataframe\">\n",
       "  <thead>\n",
       "    <tr style=\"text-align: right;\">\n",
       "      <th></th>\n",
       "      <th>rms</th>\n",
       "      <th>peaks</th>\n",
       "      <th>DateTime</th>\n",
       "    </tr>\n",
       "  </thead>\n",
       "  <tbody>\n",
       "    <tr>\n",
       "      <th>427.023438</th>\n",
       "      <td>6.928203</td>\n",
       "      <td>0</td>\n",
       "      <td>2024-03-06 07:12:05.054687500</td>\n",
       "    </tr>\n",
       "    <tr>\n",
       "      <th>427.027344</th>\n",
       "      <td>5.656854</td>\n",
       "      <td>0</td>\n",
       "      <td>2024-03-06 07:12:05.058593750</td>\n",
       "    </tr>\n",
       "    <tr>\n",
       "      <th>427.031250</th>\n",
       "      <td>12.000000</td>\n",
       "      <td>0</td>\n",
       "      <td>2024-03-06 07:12:05.062500000</td>\n",
       "    </tr>\n",
       "    <tr>\n",
       "      <th>427.035156</th>\n",
       "      <td>8.944272</td>\n",
       "      <td>0</td>\n",
       "      <td>2024-03-06 07:12:05.066406250</td>\n",
       "    </tr>\n",
       "    <tr>\n",
       "      <th>427.039062</th>\n",
       "      <td>4.000000</td>\n",
       "      <td>0</td>\n",
       "      <td>2024-03-06 07:12:05.070312500</td>\n",
       "    </tr>\n",
       "    <tr>\n",
       "      <th>...</th>\n",
       "      <td>...</td>\n",
       "      <td>...</td>\n",
       "      <td>...</td>\n",
       "    </tr>\n",
       "    <tr>\n",
       "      <th>436.003906</th>\n",
       "      <td>13.266499</td>\n",
       "      <td>0</td>\n",
       "      <td>2024-03-06 07:12:14.035156250</td>\n",
       "    </tr>\n",
       "    <tr>\n",
       "      <th>436.007812</th>\n",
       "      <td>4.000000</td>\n",
       "      <td>0</td>\n",
       "      <td>2024-03-06 07:12:14.039062500</td>\n",
       "    </tr>\n",
       "    <tr>\n",
       "      <th>436.011719</th>\n",
       "      <td>8.000000</td>\n",
       "      <td>0</td>\n",
       "      <td>2024-03-06 07:12:14.042968750</td>\n",
       "    </tr>\n",
       "    <tr>\n",
       "      <th>436.015625</th>\n",
       "      <td>20.808652</td>\n",
       "      <td>0</td>\n",
       "      <td>2024-03-06 07:12:14.046875000</td>\n",
       "    </tr>\n",
       "    <tr>\n",
       "      <th>436.019531</th>\n",
       "      <td>23.366643</td>\n",
       "      <td>0</td>\n",
       "      <td>2024-03-06 07:12:14.050781250</td>\n",
       "    </tr>\n",
       "  </tbody>\n",
       "</table>\n",
       "<p>2304 rows × 3 columns</p>\n",
       "</div>"
      ],
      "text/plain": [
       "                  rms  peaks                      DateTime\n",
       "427.023438   6.928203      0 2024-03-06 07:12:05.054687500\n",
       "427.027344   5.656854      0 2024-03-06 07:12:05.058593750\n",
       "427.031250  12.000000      0 2024-03-06 07:12:05.062500000\n",
       "427.035156   8.944272      0 2024-03-06 07:12:05.066406250\n",
       "427.039062   4.000000      0 2024-03-06 07:12:05.070312500\n",
       "...               ...    ...                           ...\n",
       "436.003906  13.266499      0 2024-03-06 07:12:14.035156250\n",
       "436.007812   4.000000      0 2024-03-06 07:12:14.039062500\n",
       "436.011719   8.000000      0 2024-03-06 07:12:14.042968750\n",
       "436.015625  20.808652      0 2024-03-06 07:12:14.046875000\n",
       "436.019531  23.366643      0 2024-03-06 07:12:14.050781250\n",
       "\n",
       "[2304 rows x 3 columns]"
      ]
     },
     "execution_count": 242,
     "metadata": {},
     "output_type": "execute_result"
    }
   ],
   "source": [
    "cue_df['DateTime'] = synch_times['cue1_20240306'] + pd.to_timedelta(cue_df.index-cue_df.index[cue_df['peaks']==1][0],unit='s')\n",
    "cue_df"
   ]
  },
  {
   "cell_type": "code",
   "execution_count": 243,
   "metadata": {},
   "outputs": [],
   "source": [
    "cue_df.to_csv('./outfiles/cue1_acc_20240306.csv')"
   ]
  },
  {
   "cell_type": "markdown",
   "metadata": {},
   "source": [
    "No apparent recorded second cue for monday. Maybe the spider got shut off by accident."
   ]
  },
  {
   "cell_type": "code",
   "execution_count": null,
   "metadata": {},
   "outputs": [],
   "source": [
    "# Sync1 at X tim?\n",
    "# C1 tuning ?\n",
    "# C2 tuning ?"
   ]
  }
 ],
 "metadata": {
  "kernelspec": {
   "display_name": "Python 3",
   "language": "python",
   "name": "python3"
  },
  "language_info": {
   "codemirror_mode": {
    "name": "ipython",
    "version": 3
   },
   "file_extension": ".py",
   "mimetype": "text/x-python",
   "name": "python",
   "nbconvert_exporter": "python",
   "pygments_lexer": "ipython3",
   "version": "3.9.0"
  }
 },
 "nbformat": 4,
 "nbformat_minor": 4
}
